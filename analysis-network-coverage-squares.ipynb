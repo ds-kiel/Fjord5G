{
 "cells": [
  {
   "cell_type": "code",
   "execution_count": 1,
   "metadata": {},
   "outputs": [],
   "source": [
    "import pandas as pd\n",
    "import network_maps\n",
    "\n",
    "root_dir = 'data/'\n",
    "input_5G_D2_WAVELAB_preprocessed = '5G-D2-WAVELAB-preprocessed.parquet.gzip'\n",
    "input_5G_DTAG_WAVELAB_preprocessed = '5G-DTAG-WAVELAB-preprocessed.parquet.gzip'\n",
    "selected_columns = ['gps.lat', 'gps.lon', 'lte.lDataClass', 'lte.lCqi']"
   ]
  },
  {
   "cell_type": "code",
   "execution_count": 2,
   "metadata": {},
   "outputs": [
    {
     "name": "stdout",
     "output_type": "stream",
     "text": [
      "<class 'pandas.core.frame.DataFrame'>\n",
      "DatetimeIndex: 25750092 entries, 2023-11-24 13:51:45 to 2024-11-01 12:59:48\n",
      "Data columns (total 4 columns):\n",
      " #   Column          Non-Null Count     Dtype  \n",
      "---  ------          --------------     -----  \n",
      " 0   gps.lat         25749977 non-null  Float64\n",
      " 1   gps.lon         25749977 non-null  Float64\n",
      " 2   lte.lDataClass  25750092 non-null  string \n",
      " 3   lte.lCqi        25159617 non-null  Float64\n",
      "dtypes: Float64(3), string(1)\n",
      "memory usage: 1.0 GB\n"
     ]
    }
   ],
   "source": [
    "df_D2 = pd.read_parquet(root_dir + input_5G_D2_WAVELAB_preprocessed, columns=selected_columns)\n",
    "df_D2.info(verbose=True, show_counts=True)"
   ]
  },
  {
   "cell_type": "code",
   "execution_count": 3,
   "metadata": {},
   "outputs": [
    {
     "name": "stdout",
     "output_type": "stream",
     "text": [
      "<class 'pandas.core.frame.DataFrame'>\n",
      "DatetimeIndex: 25762417 entries, 2023-11-24 13:51:45 to 2024-11-01 12:59:27\n",
      "Data columns (total 4 columns):\n",
      " #   Column          Non-Null Count     Dtype  \n",
      "---  ------          --------------     -----  \n",
      " 0   gps.lat         25731947 non-null  Float64\n",
      " 1   gps.lon         25731947 non-null  Float64\n",
      " 2   lte.lDataClass  25762417 non-null  string \n",
      " 3   lte.lCqi        25248739 non-null  Float64\n",
      "dtypes: Float64(3), string(1)\n",
      "memory usage: 1.0 GB\n"
     ]
    }
   ],
   "source": [
    "df_DTAG = pd.read_parquet(root_dir + input_5G_DTAG_WAVELAB_preprocessed, columns=selected_columns)\n",
    "df_DTAG.info(verbose=True, show_counts=True)"
   ]
  },
  {
   "cell_type": "code",
   "execution_count": 4,
   "metadata": {},
   "outputs": [
    {
     "name": "stdout",
     "output_type": "stream",
     "text": [
      "<class 'pandas.core.frame.DataFrame'>\n",
      "DatetimeIndex: 25159503 entries, 2023-11-24 14:28:51 to 2024-11-01 12:59:48\n",
      "Data columns (total 4 columns):\n",
      " #   Column          Non-Null Count     Dtype  \n",
      "---  ------          --------------     -----  \n",
      " 0   gps.lat         25159503 non-null  Float64\n",
      " 1   gps.lon         25159503 non-null  Float64\n",
      " 2   lte.lDataClass  25159503 non-null  string \n",
      " 3   lte.lCqi        25159503 non-null  Float64\n",
      "dtypes: Float64(3), string(1)\n",
      "memory usage: 1.0 GB\n"
     ]
    }
   ],
   "source": [
    "df_D2.dropna(inplace=True)\n",
    "df_D2.info(verbose=True, show_counts=True)"
   ]
  },
  {
   "cell_type": "code",
   "execution_count": 5,
   "metadata": {},
   "outputs": [
    {
     "name": "stdout",
     "output_type": "stream",
     "text": [
      "<class 'pandas.core.frame.DataFrame'>\n",
      "DatetimeIndex: 25218312 entries, 2023-11-27 17:30:17 to 2024-11-01 12:59:27\n",
      "Data columns (total 4 columns):\n",
      " #   Column          Non-Null Count     Dtype  \n",
      "---  ------          --------------     -----  \n",
      " 0   gps.lat         25218312 non-null  Float64\n",
      " 1   gps.lon         25218312 non-null  Float64\n",
      " 2   lte.lDataClass  25218312 non-null  string \n",
      " 3   lte.lCqi        25218312 non-null  Float64\n",
      "dtypes: Float64(3), string(1)\n",
      "memory usage: 1.0 GB\n"
     ]
    }
   ],
   "source": [
    "df_DTAG.dropna(inplace=True)\n",
    "df_DTAG.info(verbose=True, show_counts=True)"
   ]
  },
  {
   "cell_type": "code",
   "execution_count": 6,
   "metadata": {},
   "outputs": [],
   "source": [
    "df_D2.columns = df_D2.columns.str.removeprefix(\"gps.\")\n",
    "df_D2.columns = df_D2.columns.str.removeprefix(\"lte.\")\n",
    "\n",
    "df_DTAG.columns = df_DTAG.columns.str.removeprefix(\"gps.\")\n",
    "df_DTAG.columns = df_DTAG.columns.str.removeprefix(\"lte.\")"
   ]
  },
  {
   "cell_type": "code",
   "execution_count": 7,
   "metadata": {},
   "outputs": [],
   "source": [
    "# You can filter by Data Class to create maps for LTE, 5G NSA, and 5G SA\n",
    "#df_D2_LTE = df_D2.query(\"`lDataClass` == 'LTE'\")\n",
    "#df_D2_5G_NSA = df_D2.query(\"`lDataClass` == '5G NSA'\")\n",
    "df_D2_5G_SA = df_D2.query(\"`lDataClass` == '5G SA'\")"
   ]
  },
  {
   "cell_type": "code",
   "execution_count": 8,
   "metadata": {},
   "outputs": [],
   "source": [
    "# You can change the metric up when the dataset is loaded to create maps for different metrics, here we are using CQI\n",
    "network_maps.create_coverage_squares_with_metric(df_D2, '5G-D2-WAVELAB', 'all', 'Fjord5G', metric='lCqi')"
   ]
  },
  {
   "cell_type": "code",
   "execution_count": 9,
   "metadata": {},
   "outputs": [
    {
     "name": "stderr",
     "output_type": "stream",
     "text": [
      "/Users/birkandenizer/Git/Fjord5G/network_maps.py:193: SettingWithCopyWarning: \n",
      "A value is trying to be set on a copy of a slice from a DataFrame.\n",
      "Try using .loc[row_indexer,col_indexer] = value instead\n",
      "\n",
      "See the caveats in the documentation: https://pandas.pydata.org/pandas-docs/stable/user_guide/indexing.html#returning-a-view-versus-a-copy\n",
      "  df['lon_bin'] = pd.cut(df['lon'], bins=lon_bins, labels=lon_labels.keys(), right=False)\n",
      "/Users/birkandenizer/Git/Fjord5G/network_maps.py:194: SettingWithCopyWarning: \n",
      "A value is trying to be set on a copy of a slice from a DataFrame.\n",
      "Try using .loc[row_indexer,col_indexer] = value instead\n",
      "\n",
      "See the caveats in the documentation: https://pandas.pydata.org/pandas-docs/stable/user_guide/indexing.html#returning-a-view-versus-a-copy\n",
      "  df['lat_bin'] = pd.cut(df['lat'], bins=lat_bins, labels=lat_labels.keys(), right=False)\n",
      "/Users/birkandenizer/Git/Fjord5G/network_maps.py:197: SettingWithCopyWarning: \n",
      "A value is trying to be set on a copy of a slice from a DataFrame.\n",
      "Try using .loc[row_indexer,col_indexer] = value instead\n",
      "\n",
      "See the caveats in the documentation: https://pandas.pydata.org/pandas-docs/stable/user_guide/indexing.html#returning-a-view-versus-a-copy\n",
      "  df['region'] = df['lon_bin'].astype(str) + '; ' + df['lat_bin'].astype(str)\n"
     ]
    }
   ],
   "source": [
    "# You can change the metric up when the dataset is loaded to create maps for different metrics, here we are using CQI\n",
    "network_maps.create_coverage_squares_with_metric(df_D2_5G_SA, '5G-D2-WAVELAB', '5G-SA', 'Fjord5G', metric='lCqi')"
   ]
  },
  {
   "cell_type": "code",
   "execution_count": 10,
   "metadata": {},
   "outputs": [],
   "source": [
    "# You can change the metric up when the dataset is loaded to create maps for different metrics, here we are using CQI\n",
    "network_maps.create_coverage_squares_with_metric(df_DTAG, '5G-DTAG-WAVELAB', 'all', 'Fjord5G', metric='lCqi')"
   ]
  }
 ],
 "metadata": {
  "kernelspec": {
   "display_name": "Fjord5G",
   "language": "python",
   "name": "python3"
  },
  "language_info": {
   "codemirror_mode": {
    "name": "ipython",
    "version": 3
   },
   "file_extension": ".py",
   "mimetype": "text/x-python",
   "name": "python",
   "nbconvert_exporter": "python",
   "pygments_lexer": "ipython3",
   "version": "3.13.2"
  },
  "orig_nbformat": 4
 },
 "nbformat": 4,
 "nbformat_minor": 2
}
