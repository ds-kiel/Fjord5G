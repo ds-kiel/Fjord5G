{
 "cells": [
  {
   "cell_type": "code",
   "execution_count": 1,
   "metadata": {},
   "outputs": [],
   "source": [
    "import pandas as pd\n",
    "\n",
    "pd.set_option(\"display.max_columns\", None)\n",
    "pd.set_option(\"display.max_rows\", None)\n",
    "\n",
    "root_dir = 'data/'\n",
    "input_5G_D2_WAVELAB_preprocessed = '5G-D2-WAVELAB-preprocessed.parquet.gzip'\n",
    "input_5G_DTAG_WAVELAB_preprocessed = '5G-DTAG-WAVELAB-preprocessed.parquet.gzip'\n",
    "input_CAU_8388_preprocessed = 'CAU-8388-preprocessed.parquet.gzip'\n",
    "input_CAU_8395_preprocessed = 'CAU-8395-preprocessed.parquet.gzip'"
   ]
  },
  {
   "cell_type": "code",
   "execution_count": null,
   "metadata": {},
   "outputs": [],
   "source": [
    "df_D2 = pd.read_parquet(root_dir + input_5G_D2_WAVELAB_preprocessed)\n",
    "df_D2.info(verbose=True, show_counts=True)"
   ]
  },
  {
   "cell_type": "code",
   "execution_count": null,
   "metadata": {},
   "outputs": [],
   "source": [
    "df_D2.head()"
   ]
  },
  {
   "cell_type": "code",
   "execution_count": null,
   "metadata": {},
   "outputs": [],
   "source": [
    "df_DTAG = pd.read_parquet(root_dir + input_5G_DTAG_WAVELAB_preprocessed)\n",
    "df_DTAG.info(verbose=True, show_counts=True)"
   ]
  },
  {
   "cell_type": "code",
   "execution_count": null,
   "metadata": {},
   "outputs": [],
   "source": [
    "df_DTAG.head()"
   ]
  },
  {
   "cell_type": "code",
   "execution_count": null,
   "metadata": {},
   "outputs": [],
   "source": [
    "df_8388 = pd.read_parquet(root_dir + input_CAU_8388_preprocessed)\n",
    "df_8388.info(verbose=True, show_counts=True)"
   ]
  },
  {
   "cell_type": "code",
   "execution_count": null,
   "metadata": {},
   "outputs": [],
   "source": [
    "df_8388.head()"
   ]
  },
  {
   "cell_type": "code",
   "execution_count": null,
   "metadata": {},
   "outputs": [],
   "source": [
    "df_8395 = pd.read_parquet(root_dir + input_CAU_8395_preprocessed)\n",
    "df_8395.info(verbose=True, show_counts=True)"
   ]
  },
  {
   "cell_type": "code",
   "execution_count": null,
   "metadata": {},
   "outputs": [],
   "source": [
    "df_8395.head()"
   ]
  }
 ],
 "metadata": {
  "kernelspec": {
   "display_name": "Fjord5G",
   "language": "python",
   "name": "python3"
  },
  "language_info": {
   "codemirror_mode": {
    "name": "ipython",
    "version": 3
   },
   "file_extension": ".py",
   "mimetype": "text/x-python",
   "name": "python",
   "nbconvert_exporter": "python",
   "pygments_lexer": "ipython3",
   "version": "3.13.1"
  }
 },
 "nbformat": 4,
 "nbformat_minor": 2
}
